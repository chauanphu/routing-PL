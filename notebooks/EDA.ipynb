{
 "cells": [
  {
   "cell_type": "code",
   "execution_count": 1,
   "id": "474bfee5-40c2-4313-8731-a8e258ba3a78",
   "metadata": {
    "scrolled": true
   },
   "outputs": [],
   "source": [
    "import pandas as pd\n",
    "from pyspark.sql import SparkSession"
   ]
  },
  {
   "cell_type": "code",
   "execution_count": 2,
   "id": "38ed4dbf-af55-411e-b94b-ef9eb3f4811b",
   "metadata": {},
   "outputs": [
    {
     "name": "stderr",
     "output_type": "stream",
     "text": [
      "Setting default log level to \"WARN\".\n",
      "To adjust logging level use sc.setLogLevel(newLevel). For SparkR, use setLogLevel(newLevel).\n",
      "24/11/20 12:15:08 WARN NativeCodeLoader: Unable to load native-hadoop library for your platform... using builtin-java classes where applicable\n"
     ]
    }
   ],
   "source": [
    "spark = SparkSession.builder.appName(\"VRPEDA\").getOrCreate()"
   ]
  },
  {
   "cell_type": "code",
   "execution_count": 22,
   "id": "95675dbd",
   "metadata": {},
   "outputs": [
    {
     "name": "stdout",
     "output_type": "stream",
     "text": [
      "root\n",
      " |-- order_id: integer (nullable = true)\n",
      " |-- region_id: integer (nullable = true)\n",
      " |-- city: string (nullable = true)\n",
      " |-- courier_id: integer (nullable = true)\n",
      " |-- lng: double (nullable = true)\n",
      " |-- lat: double (nullable = true)\n",
      " |-- aoi_id: integer (nullable = true)\n",
      " |-- aoi_type: integer (nullable = true)\n",
      " |-- accept_time: string (nullable = true)\n",
      " |-- accept_gps_time: string (nullable = true)\n",
      " |-- accept_gps_lng: double (nullable = true)\n",
      " |-- accept_gps_lat: double (nullable = true)\n",
      " |-- delivery_time: string (nullable = true)\n",
      " |-- delivery_gps_time: string (nullable = true)\n",
      " |-- delivery_gps_lng: double (nullable = true)\n",
      " |-- delivery_gps_lat: double (nullable = true)\n",
      " |-- ds: integer (nullable = true)\n",
      "\n"
     ]
    },
    {
     "name": "stderr",
     "output_type": "stream",
     "text": [
      "                                                                                \r"
     ]
    }
   ],
   "source": [
    "# Load the data\n",
    "delivery_df = spark.read.csv(\"../data/delivery_cq.csv\", header=True, inferSchema=True)\n",
    "delivery_df.printSchema()"
   ]
  },
  {
   "cell_type": "code",
   "execution_count": 23,
   "id": "d682625e",
   "metadata": {},
   "outputs": [
    {
     "name": "stdout",
     "output_type": "stream",
     "text": [
      "+--------+---------+---------+----------+---------+--------+------+--------+--------------+---------------+--------------+--------------+--------------+-----------------+----------------+----------------+----+\n",
      "|order_id|region_id|     city|courier_id|      lng|     lat|aoi_id|aoi_type|   accept_time|accept_gps_time|accept_gps_lng|accept_gps_lat| delivery_time|delivery_gps_time|delivery_gps_lng|delivery_gps_lat|  ds|\n",
      "+--------+---------+---------+----------+---------+--------+------+--------+--------------+---------------+--------------+--------------+--------------+-----------------+----------------+----------------+----+\n",
      "| 2031782|       10|Chongqing|        73|108.71571|30.90228|    50|      14|10-22 10:26:00| 10-22 10:26:00|     108.71826|      30.95587|10-22 17:04:00|   10-22 17:04:00|       108.66361|        30.96702|1022|\n",
      "| 4285071|       10|Chongqing|      3605|108.71639|30.90269|    50|      14|09-07 10:13:00| 09-07 10:13:00|     108.71791|      30.95635|09-09 15:44:00|   09-09 15:44:00|       108.71644|        30.90266| 907|\n",
      "| 4056800|       10|Chongqing|      3605|108.71645|30.90259|    50|      14|06-26 09:49:00| 06-26 09:49:00|     108.71798|      30.95635|06-27 16:03:00|   06-27 16:03:00|       108.71647|        30.90251| 626|\n",
      "| 3589481|       10|Chongqing|      3605| 108.7165|30.90347|    50|      14|09-11 11:01:00| 09-11 11:01:00|     108.71823|      30.95596|09-13 17:14:00|   09-13 17:14:00|        108.7165|        30.90341| 911|\n",
      "| 2752329|       10|Chongqing|      3605|108.71608|30.90409|    50|      14|10-01 09:52:00| 10-01 09:52:00|      108.7182|      30.95598|10-01 18:30:00|   10-01 18:30:00|       108.71413|        30.90397|1001|\n",
      "+--------+---------+---------+----------+---------+--------+------+--------+--------------+---------------+--------------+--------------+--------------+-----------------+----------------+----------------+----+\n",
      "only showing top 5 rows\n",
      "\n"
     ]
    }
   ],
   "source": [
    "delivery_df.show(5)"
   ]
  },
  {
   "cell_type": "code",
   "execution_count": 24,
   "id": "c6c612ea",
   "metadata": {},
   "outputs": [],
   "source": [
    "from functools import reduce\n",
    "from pyspark.sql.functions import unix_timestamp, col\n",
    "from pyspark.sql.types import TimestampType\n",
    "\n",
    "timestamp_cols = [\"accept_time\", \"accept_gps_time\", \"delivery_time\", \"delivery_gps_time\"]\n",
    "\n",
    "delivery_df = reduce(lambda df, col_name: df.withColumn(\n",
    "    col_name, \n",
    "    unix_timestamp(col(col_name), \"MM-dd HH:mm:ss\").cast(TimestampType())\n",
    "), timestamp_cols, delivery_df)"
   ]
  },
  {
   "cell_type": "code",
   "execution_count": 25,
   "id": "3cd84818",
   "metadata": {},
   "outputs": [
    {
     "name": "stdout",
     "output_type": "stream",
     "text": [
      "Categorical columns: ['city']\n",
      "Numerical columns: ['order_id', 'region_id', 'courier_id', 'lng', 'lat', 'aoi_id', 'aoi_type', 'accept_time', 'accept_gps_time', 'accept_gps_lng', 'accept_gps_lat', 'delivery_time', 'delivery_gps_time', 'delivery_gps_lng', 'delivery_gps_lat', 'ds']\n",
      "root\n",
      " |-- order_id: integer (nullable = true)\n",
      " |-- region_id: integer (nullable = true)\n",
      " |-- city: string (nullable = true)\n",
      " |-- courier_id: integer (nullable = true)\n",
      " |-- lng: double (nullable = true)\n",
      " |-- lat: double (nullable = true)\n",
      " |-- aoi_id: integer (nullable = true)\n",
      " |-- aoi_type: integer (nullable = true)\n",
      " |-- accept_time: timestamp (nullable = true)\n",
      " |-- accept_gps_time: timestamp (nullable = true)\n",
      " |-- accept_gps_lng: double (nullable = true)\n",
      " |-- accept_gps_lat: double (nullable = true)\n",
      " |-- delivery_time: timestamp (nullable = true)\n",
      " |-- delivery_gps_time: timestamp (nullable = true)\n",
      " |-- delivery_gps_lng: double (nullable = true)\n",
      " |-- delivery_gps_lat: double (nullable = true)\n",
      " |-- ds: integer (nullable = true)\n",
      "\n"
     ]
    }
   ],
   "source": [
    "# List categorical columns and numerical columns\n",
    "categorical_columns = [c for c, t in delivery_df.dtypes if t == \"string\"]\n",
    "numerical_columns = [c for c in delivery_df.columns if c not in categorical_columns]\n",
    "print(f\"Categorical columns: {categorical_columns}\")\n",
    "print(f\"Numerical columns: {numerical_columns}\")\n",
    "delivery_df.printSchema()"
   ]
  },
  {
   "cell_type": "code",
   "execution_count": 26,
   "id": "73bd7888",
   "metadata": {},
   "outputs": [
    {
     "name": "stdout",
     "output_type": "stream",
     "text": [
      "+--------+---------+---------+----------+---------+--------+------+--------+-------------------+-------------------+--------------+--------------+-------------------+-------------------+----------------+----------------+----+\n",
      "|order_id|region_id|     city|courier_id|      lng|     lat|aoi_id|aoi_type|        accept_time|    accept_gps_time|accept_gps_lng|accept_gps_lat|      delivery_time|  delivery_gps_time|delivery_gps_lng|delivery_gps_lat|  ds|\n",
      "+--------+---------+---------+----------+---------+--------+------+--------+-------------------+-------------------+--------------+--------------+-------------------+-------------------+----------------+----------------+----+\n",
      "| 2031782|       10|Chongqing|        73|108.71571|30.90228|    50|      14|1970-10-22 10:26:00|1970-10-22 10:26:00|     108.71826|      30.95587|1970-10-22 17:04:00|1970-10-22 17:04:00|       108.66361|        30.96702|1022|\n",
      "| 4285071|       10|Chongqing|      3605|108.71639|30.90269|    50|      14|1970-09-07 10:13:00|1970-09-07 10:13:00|     108.71791|      30.95635|1970-09-09 15:44:00|1970-09-09 15:44:00|       108.71644|        30.90266| 907|\n",
      "| 4056800|       10|Chongqing|      3605|108.71645|30.90259|    50|      14|1970-06-26 09:49:00|1970-06-26 09:49:00|     108.71798|      30.95635|1970-06-27 16:03:00|1970-06-27 16:03:00|       108.71647|        30.90251| 626|\n",
      "| 3589481|       10|Chongqing|      3605| 108.7165|30.90347|    50|      14|1970-09-11 11:01:00|1970-09-11 11:01:00|     108.71823|      30.95596|1970-09-13 17:14:00|1970-09-13 17:14:00|        108.7165|        30.90341| 911|\n",
      "| 2752329|       10|Chongqing|      3605|108.71608|30.90409|    50|      14|1970-10-01 09:52:00|1970-10-01 09:52:00|      108.7182|      30.95598|1970-10-01 18:30:00|1970-10-01 18:30:00|       108.71413|        30.90397|1001|\n",
      "+--------+---------+---------+----------+---------+--------+------+--------+-------------------+-------------------+--------------+--------------+-------------------+-------------------+----------------+----------------+----+\n",
      "only showing top 5 rows\n",
      "\n"
     ]
    }
   ],
   "source": [
    "# Clean the data\n",
    "delivery_df = delivery_df.dropna()\n",
    "delivery_df.show(5)"
   ]
  },
  {
   "cell_type": "code",
   "execution_count": 27,
   "id": "cf6a7152",
   "metadata": {},
   "outputs": [
    {
     "name": "stderr",
     "output_type": "stream",
     "text": [
      "[Stage 23:==============>                                         (9 + 26) / 35]\r"
     ]
    },
    {
     "name": "stdout",
     "output_type": "stream",
     "text": [
      "+---------+\n",
      "|     city|\n",
      "+---------+\n",
      "|Chongqing|\n",
      "+---------+\n",
      "\n"
     ]
    },
    {
     "name": "stderr",
     "output_type": "stream",
     "text": [
      "                                                                                \r"
     ]
    }
   ],
   "source": [
    "# Show the number of cities\n",
    "delivery_df.select(\"city\").distinct().show()"
   ]
  },
  {
   "cell_type": "code",
   "execution_count": 28,
   "id": "70d7ee9a",
   "metadata": {},
   "outputs": [
    {
     "name": "stderr",
     "output_type": "stream",
     "text": [
      "[Stage 26:===============================>                       (20 + 15) / 35]\r"
     ]
    },
    {
     "name": "stdout",
     "output_type": "stream",
     "text": [
      "+----+------+\n",
      "|hour| count|\n",
      "+----+------+\n",
      "|  12|  9918|\n",
      "|  22|   435|\n",
      "|  13|140357|\n",
      "|  16| 26013|\n",
      "|   6|  3139|\n",
      "|  20|  2700|\n",
      "|  19|  6048|\n",
      "|  15| 86394|\n",
      "|   9| 84761|\n",
      "|  17| 12515|\n",
      "|   8|192696|\n",
      "|  23|   123|\n",
      "|   7| 37095|\n",
      "|  10| 16947|\n",
      "|  21|  1007|\n",
      "|  11| 10958|\n",
      "|  14|291968|\n",
      "|  18|  8235|\n",
      "|   5|    40|\n",
      "|   4|     2|\n",
      "+----+------+\n",
      "\n"
     ]
    },
    {
     "name": "stderr",
     "output_type": "stream",
     "text": [
      "                                                                                \r"
     ]
    }
   ],
   "source": [
    "# Show the distribution of accept_time as hour of day\n",
    "from pyspark.sql.functions import hour\n",
    "hours = delivery_df.select(hour(\"accept_time\").alias(\"hour\")).groupBy(\"hour\").count().show()\n",
    "hours"
   ]
  },
  {
   "cell_type": "code",
   "execution_count": 29,
   "id": "50c65573",
   "metadata": {},
   "outputs": [
    {
     "name": "stderr",
     "output_type": "stream",
     "text": [
      "                                                                                \r"
     ]
    },
    {
     "data": {
      "image/png": "[encoded data removed]",
      "text/plain": [
       "<Figure size 640x480 with 1 Axes>"
      ]
     },
     "metadata": {},
     "output_type": "display_data"
    }
   ],
   "source": [
    "# Plot the distribution of accept_time as hour of day\n",
    "import matplotlib.pyplot as plt\n",
    "import seaborn as sns\n",
    "\n",
    "hours_df = delivery_df.select(hour(\"accept_time\").alias(\"hour\")).toPandas()\n",
    "sns.histplot(hours_df[\"hour\"], bins=24)\n",
    "plt.show()"
   ]
  },
  {
   "cell_type": "code",
   "execution_count": 30,
   "id": "56750b47",
   "metadata": {},
   "outputs": [
    {
     "data": {
      "image/png": "[encoded data removed]",
      "text/plain": [
       "<Figure size 640x480 with 1 Axes>"
      ]
     },
     "metadata": {},
     "output_type": "display_data"
    }
   ],
   "source": [
    "# Convert to probability distribution\n",
    "hours_df = hours_df[\"hour\"].value_counts(normalize=True).reset_index()\n",
    "hours_df.columns = [\"hour\", \"probability\"]\n",
    "sns.barplot(x=\"hour\", y=\"probability\", data=hours_df)\n",
    "plt.show()"
   ]
  },
  {
   "cell_type": "code",
   "execution_count": null,
   "id": "37909e30",
   "metadata": {},
   "outputs": [
    {
     "name": "stderr",
     "output_type": "stream",
     "text": [
      "[Stage 108:>                                                      (1 + 71) / 72]\r"
     ]
    },
    {
     "name": "stdout",
     "output_type": "stream",
     "text": [
      "root\n",
      " |-- order_id: integer (nullable = true)\n",
      " |-- region_id: integer (nullable = true)\n",
      " |-- city: string (nullable = true)\n",
      " |-- courier_id: integer (nullable = true)\n",
      " |-- accept_time: string (nullable = true)\n",
      " |-- time_window_start: string (nullable = true)\n",
      " |-- time_window_end: string (nullable = true)\n",
      " |-- lng: double (nullable = true)\n",
      " |-- lat: double (nullable = true)\n",
      " |-- aoi_id: integer (nullable = true)\n",
      " |-- aoi_type: integer (nullable = true)\n",
      " |-- pickup_time: string (nullable = true)\n",
      " |-- pickup_gps_time: string (nullable = true)\n",
      " |-- pickup_gps_lng: double (nullable = true)\n",
      " |-- pickup_gps_lat: double (nullable = true)\n",
      " |-- accept_gps_time: string (nullable = true)\n",
      " |-- accept_gps_lng: double (nullable = true)\n",
      " |-- accept_gps_lat: double (nullable = true)\n",
      " |-- ds: integer (nullable = true)\n",
      "\n",
      "+--------+---------+--------+----------+--------------+-----------------+---------------+---------+--------+------+--------+--------------+---------------+--------------+--------------+---------------+--------------+--------------+----+\n",
      "|order_id|region_id|    city|courier_id|   accept_time|time_window_start|time_window_end|      lng|     lat|aoi_id|aoi_type|   pickup_time|pickup_gps_time|pickup_gps_lng|pickup_gps_lat|accept_gps_time|accept_gps_lng|accept_gps_lat|  ds|\n",
      "+--------+---------+--------+----------+--------------+-----------------+---------------+---------+--------+------+--------+--------------+---------------+--------------+--------------+---------------+--------------+--------------+----+\n",
      "| 4965037|        1|Hangzhou|      6885|07-14 09:21:00|   07-14 17:00:00| 07-14 19:00:00|120.11976|30.32921|   102|      14|07-14 17:14:00| 07-14 17:14:00|     120.11809|      30.33748| 07-14 09:21:00|     120.13181|      30.34463| 714|\n",
      "| 1309531|        1|Hangzhou|     13428|07-19 08:05:00|   07-19 09:00:00| 07-19 11:00:00| 120.0219|30.37915|   202|       1|07-19 08:47:00|           NULL|          NULL|          NULL|           NULL|          NULL|          NULL| 719|\n",
      "| 4390255|        1|Hangzhou|     13428|10-20 11:24:00|   10-20 17:00:00| 10-20 19:00:00|120.02184|30.37902|   202|       1|10-20 17:50:00|           NULL|          NULL|          NULL|           NULL|          NULL|          NULL|1020|\n",
      "| 5702636|        1|Hangzhou|     13428|10-29 12:48:00|   10-29 17:02:00| 10-29 19:02:00|120.02195|30.37904|   202|       1|10-29 17:00:00|           NULL|          NULL|          NULL|           NULL|          NULL|          NULL|1029|\n",
      "| 1187003|        1|Hangzhou|     13428|10-16 07:59:00|   10-16 09:00:00| 10-16 11:00:00|120.02181|30.37916|   202|       1|10-16 09:56:00|           NULL|          NULL|          NULL|           NULL|          NULL|          NULL|1016|\n",
      "+--------+---------+--------+----------+--------------+-----------------+---------------+---------+--------+------+--------+--------------+---------------+--------------+--------------+---------------+--------------+--------------+----+\n",
      "only showing top 5 rows\n",
      "\n"
     ]
    },
    {
     "name": "stderr",
     "output_type": "stream",
     "text": [
      "                                                                                \r"
     ]
    }
   ],
   "source": [
    "# Load pickup data\n",
    "pickup_df = spark.read.csv(\"../data/pickup_sh.csv\", header=True, inferSchema=True)\n",
    "pickup_df.printSchema()\n",
    "pickup_df.show(5)"
   ]
  },
  {
   "cell_type": "code",
   "execution_count": 65,
   "id": "07b238e6",
   "metadata": {},
   "outputs": [],
   "source": [
    "# Drop na\n",
    "pickup_df = pickup_df.dropna()"
   ]
  },
  {
   "cell_type": "code",
   "execution_count": 66,
   "id": "7f83e1d2",
   "metadata": {},
   "outputs": [],
   "source": [
    "from functools import reduce\n",
    "from pyspark.sql.functions import unix_timestamp, col\n",
    "from pyspark.sql.types import TimestampType\n",
    "\n",
    "timestamp_cols = [\"accept_time\", \"time_window_start\", \"time_window_end\", \"pickup_time\", \"pickup_gps_time\"]\n",
    "\n",
    "pickup_df = reduce(lambda df, col_name: df.withColumn(\n",
    "    col_name, \n",
    "    unix_timestamp(col(col_name), \"MM-dd HH:mm:ss\").cast(TimestampType())\n",
    "), timestamp_cols, pickup_df)"
   ]
  },
  {
   "cell_type": "code",
   "execution_count": 67,
   "id": "5d8ed0e1",
   "metadata": {},
   "outputs": [
    {
     "name": "stdout",
     "output_type": "stream",
     "text": [
      "root\n",
      " |-- order_id: integer (nullable = true)\n",
      " |-- region_id: integer (nullable = true)\n",
      " |-- city: string (nullable = true)\n",
      " |-- courier_id: integer (nullable = true)\n",
      " |-- accept_time: timestamp (nullable = true)\n",
      " |-- time_window_start: timestamp (nullable = true)\n",
      " |-- time_window_end: timestamp (nullable = true)\n",
      " |-- lng: double (nullable = true)\n",
      " |-- lat: double (nullable = true)\n",
      " |-- aoi_id: integer (nullable = true)\n",
      " |-- aoi_type: integer (nullable = true)\n",
      " |-- pickup_time: timestamp (nullable = true)\n",
      " |-- pickup_gps_time: timestamp (nullable = true)\n",
      " |-- pickup_gps_lng: double (nullable = true)\n",
      " |-- pickup_gps_lat: double (nullable = true)\n",
      " |-- accept_gps_time: string (nullable = true)\n",
      " |-- accept_gps_lng: double (nullable = true)\n",
      " |-- accept_gps_lat: double (nullable = true)\n",
      " |-- ds: integer (nullable = true)\n",
      "\n",
      "+--------+---------+--------+----------+-------------------+-------------------+-------------------+---------+--------+------+--------+-------------------+-------------------+--------------+--------------+---------------+--------------+--------------+----+\n",
      "|order_id|region_id|    city|courier_id|        accept_time|  time_window_start|    time_window_end|      lng|     lat|aoi_id|aoi_type|        pickup_time|    pickup_gps_time|pickup_gps_lng|pickup_gps_lat|accept_gps_time|accept_gps_lng|accept_gps_lat|  ds|\n",
      "+--------+---------+--------+----------+-------------------+-------------------+-------------------+---------+--------+------+--------+-------------------+-------------------+--------------+--------------+---------------+--------------+--------------+----+\n",
      "| 4965037|        1|Hangzhou|      6885|1970-07-14 09:21:00|1970-07-14 17:00:00|1970-07-14 19:00:00|120.11976|30.32921|   102|      14|1970-07-14 17:14:00|1970-07-14 17:14:00|     120.11809|      30.33748| 07-14 09:21:00|     120.13181|      30.34463| 714|\n",
      "| 1748952|        1|Hangzhou|        28|1970-09-18 11:12:00|1970-09-18 13:00:00|1970-09-18 15:00:00|120.05094| 30.3783|   208|      14|1970-09-18 12:50:00|1970-09-18 12:50:00|     120.24768|      30.34768| 09-18 11:12:00|     120.25628|      30.34953| 918|\n",
      "| 5510248|        1|Hangzhou|       332|1970-08-20 16:19:00|1970-08-20 17:00:00|1970-08-20 19:00:00|120.04997|30.37866|   208|      14|1970-08-20 17:38:00|1970-08-20 17:38:00|     120.00977|       30.3492| 08-20 16:18:00|     120.01316|      30.34681| 820|\n",
      "| 1439167|        1|Hangzhou|       725|1970-10-12 11:57:00|1970-10-12 11:57:00|1970-10-12 13:57:00|120.05267|30.38069|   208|      14|1970-10-12 12:51:00|1970-10-12 12:51:00|     120.00611|       30.2809| 10-12 11:56:00|     120.00405|      30.28036|1012|\n",
      "|  579786|        1|Hangzhou|       725|1970-09-28 14:39:00|1970-09-28 15:00:00|1970-09-28 17:00:00|120.05252|30.38057|   208|      14|1970-09-28 14:56:00|1970-09-28 14:56:00|     120.00659|      30.28088| 09-28 14:38:00|     120.00538|      30.27954| 928|\n",
      "+--------+---------+--------+----------+-------------------+-------------------+-------------------+---------+--------+------+--------+-------------------+-------------------+--------------+--------------+---------------+--------------+--------------+----+\n",
      "only showing top 5 rows\n",
      "\n"
     ]
    }
   ],
   "source": [
    "pickup_df.printSchema()\n",
    "pickup_df.show(5)"
   ]
  },
  {
   "cell_type": "code",
   "execution_count": null,
   "id": "eaffc669",
   "metadata": {},
   "outputs": [
    {
     "name": "stderr",
     "output_type": "stream",
     "text": [
      "                                                                                \r"
     ]
    },
    {
     "name": "stdout",
     "output_type": "stream",
     "text": [
      "+----+------+\n",
      "|hour| count|\n",
      "+----+------+\n",
      "|  12| 59574|\n",
      "|  13| 58415|\n",
      "|  16| 53309|\n",
      "|  15| 53221|\n",
      "|   9|154008|\n",
      "|  17|  1216|\n",
      "|   8|265406|\n",
      "|   7|104836|\n",
      "|  10| 78316|\n",
      "|  11| 58166|\n",
      "|  14| 57892|\n",
      "|  19|    36|\n",
      "|  18|   118|\n",
      "|  20|     9|\n",
      "|  21|     2|\n",
      "+----+------+\n",
      "\n"
     ]
    },
    {
     "name": "stderr",
     "output_type": "stream",
     "text": [
      "                                                                                \r"
     ]
    }
   ],
   "source": [
    "# Show the distribution of accept_time as hour of day\n",
    "pk_hours = pickup_df.select(hour(\"accept_time\").alias(\"hour\")).groupBy(\"hour\").count()\n",
    "\n",
    "pk_hours.show()\n",
    "# Convert to Pandas DataFrame\n",
    "pk_hours_df = pk_hours.toPandas()"
   ]
  },
  {
   "cell_type": "code",
   "execution_count": 69,
   "id": "10356177",
   "metadata": {},
   "outputs": [
    {
     "data": {
      "image/png": "[encoded data removed]",
      "text/plain": [
       "<Figure size 640x480 with 1 Axes>"
      ]
     },
     "metadata": {},
     "output_type": "display_data"
    }
   ],
   "source": [
    "sns.barplot(x=\"hour\", y=\"count\", data=pk_hours_df)\n",
    "plt.show()"
   ]
  },
  {
   "cell_type": "code",
   "execution_count": 70,
   "id": "e81de942",
   "metadata": {},
   "outputs": [],
   "source": [
    "# Save the distribution of accept_time as hour of day, order by hour\n",
    "pk_hours_df = pk_hours_df.sort_values(\"hour\")\n",
    "pk_hours_df.to_csv(\"../output/pickup_hours.csv\", index=False)"
   ]
  },
  {
   "cell_type": "code",
   "execution_count": 71,
   "id": "d1b43d38",
   "metadata": {},
   "outputs": [
    {
     "name": "stderr",
     "output_type": "stream",
     "text": [
      "                                                                                \r"
     ]
    },
    {
     "data": {
      "image/png": "[encoded data removed]",
      "text/plain": [
       "<Figure size 640x480 with 1 Axes>"
      ]
     },
     "metadata": {},
     "output_type": "display_data"
    },
    {
     "data": {
      "image/png": "[encoded data removed]",
      "text/plain": [
       "<Figure size 640x480 with 1 Axes>"
      ]
     },
     "metadata": {},
     "output_type": "display_data"
    }
   ],
   "source": [
    "# Show the distribution of time_window_start and time_window_end as hour of day\n",
    "pk_hours_start = pickup_df.select(hour(\"time_window_start\").alias(\"hour\")).groupBy(\"hour\").count()\n",
    "pk_hours_end = pickup_df.select(hour(\"time_window_end\").alias(\"hour\")).groupBy(\"hour\").count()\n",
    "# Convert to Pandas DataFrame\n",
    "pk_hours_start_df = pk_hours_start.toPandas()\n",
    "pk_hours_end_df = pk_hours_end.toPandas()\n",
    "\n",
    "sns.barplot(x=\"hour\", y=\"count\", data=pk_hours_start_df, color='blue')\n",
    "plt.title(\"Time Window Start\")\n",
    "plt.show()\n",
    "\n",
    "sns.barplot(x=\"hour\", y=\"count\", data=pk_hours_end_df, color='green')\n",
    "plt.title(\"Time Window End\")\n",
    "plt.show()"
   ]
  }
 ],
 "metadata": {
  "kernelspec": {
   "display_name": "Python 3 (ipykernel)",
   "language": "python",
   "name": "python3"
  },
  "language_info": {
   "codemirror_mode": {
    "name": "ipython",
    "version": 3
   },
   "file_extension": ".py",
   "mimetype": "text/x-python",
   "name": "python",
   "nbconvert_exporter": "python",
   "pygments_lexer": "ipython3",
   "version": "3.11.8"
  }
 },
 "nbformat": 4,
 "nbformat_minor": 5
}
