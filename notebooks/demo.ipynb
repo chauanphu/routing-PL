{
 "cells": [
  {
   "cell_type": "markdown",
   "metadata": {},
   "source": [
    "# Package Manager"
   ]
  },
  {
   "cell_type": "markdown",
   "metadata": {},
   "source": [
    "**pip**"
   ]
  },
  {
   "cell_type": "code",
   "execution_count": null,
   "metadata": {},
   "outputs": [],
   "source": [
    "# Cài đặt phiên bản mới nhất của thư viện 'requests'\n",
    "pip install requests\n",
    "\n",
    "# Cài đặt một phiên bản cụ thể của thư viện 'numpy'\n",
    "pip install numpy==1.23.0\n",
    "\n",
    "# Cài đặt một phiên bản tối thiểu của thư viện 'pandas'\n",
    "pip install \"pandas>=1.5.0\"\n",
    "\n",
    "# Cài đặt một gói và tất cả các phụ thuộc của nó\n",
    "pip install beautifulsoup4\n",
    "\n",
    "# Liệt kê tất cả các gói đã cài đặt trong môi trường hiện tại\n",
    "pip list\n",
    "\n",
    "# Liệt kê các gói đã cài đặt ở định dạng 'requirements.txt'\n",
    "pip freeze\n",
    "\n",
    "# Lưu danh sách các gói đã cài đặt vào file requirements.txt\n",
    "pip freeze > requirements.txt\n",
    "\n",
    "# Cài đặt tất cả các gói được liệt kê trong requirements.txt\n",
    "pip install -r requirements.txt"
   ]
  },
  {
   "cell_type": "markdown",
   "metadata": {},
   "source": [
    "**conda**"
   ]
  },
  {
   "cell_type": "code",
   "execution_count": null,
   "metadata": {},
   "outputs": [],
   "source": [
    "# Tạo một môi trường mới có tên 'myenv' với Python 3.9\n",
    "conda create -n myenv python=3.9\n",
    "\n",
    "# Tạo một môi trường mới với các gói cụ thể\n",
    "conda create -n data_science numpy pandas matplotlib scikit-learn\n",
    "\n",
    "# Cài đặt phiên bản mới nhất của 'requests' trong môi trường hiện tại\n",
    "conda install requests\n",
    "\n",
    "# Cài đặt một phiên bản cụ thể của 'numpy'\n",
    "conda install numpy=1.23.0\n",
    "\n",
    "# Cài đặt một gói từ một kênh cụ thể (ví dụ: conda-forge)\n",
    "conda install -c conda-forge tensorflow\n",
    "\n",
    "# Xuất môi trường hiện tại vào tệp environment.yml\n",
    "conda env export > environment.yml\n",
    "\n",
    "# Tạo một môi trường mới từ tệp environment.yml\n",
    "conda env create -f environment.yml"
   ]
  },
  {
   "cell_type": "markdown",
   "metadata": {},
   "source": [
    "**poetry**"
   ]
  },
  {
   "cell_type": "code",
   "execution_count": null,
   "metadata": {},
   "outputs": [],
   "source": [
    "# Tạo một dự án Poetry mới có tên 'my_project'\n",
    "poetry new my_project\n",
    "cd my_project\n",
    "\n",
    "# Thêm thư viện 'requests' làm thư viện chính\n",
    "poetry add requests\n",
    "\n",
    "# Thêm thư viện 'pytest' làm cho phát triển\n",
    "poetry add --dev pytest\n",
    "\n",
    "# Thêm một phiên bản cụ thể\n",
    "poetry add numpy@^1.22.0\n",
    "\n",
    "# Cài đặt tất cả các  thư viện được chỉ định trong pyproject.toml\n",
    "poetry install\n",
    "\n",
    "# Định nghĩa scripts trong phần [tool.poetry.scripts] của pyproject.toml (ví dụ)\n",
    "# my-script = \"my_package.module:main\"\n",
    "\n",
    "# Chạy script đã định nghĩa\n",
    "poetry run my-script\n",
    "\n",
    "# Xây dựng gói (tạo tệp wheel và sdist)\n",
    "poetry build\n",
    "\n",
    "# Hiển thị danh sách các phụ thuộc đã giải quyết\n",
    "poetry show\n",
    "\n",
    "# Hiển thị thông tin chi tiết về một phụ thuộc cụ thể\n",
    "poetry show requests"
   ]
  },
  {
   "cell_type": "markdown",
   "metadata": {},
   "source": [
    "**uv**"
   ]
  },
  {
   "cell_type": "code",
   "execution_count": null,
   "metadata": {},
   "outputs": [],
   "source": [
    "# Tạo project\n",
    "uv init my_project\n",
    "\n",
    "# Tạo một môi trường ảo trong thư mục .venv, hoặc uv sẽ tự động tạo khi thêm thư viện hoặc chạy chương trình\n",
    "uv venv .venv\n",
    "\n",
    "# Cài đặt phiên bản mới nhất của 'requests'\n",
    "uv add requests\n",
    "\n",
    "# Cài đặt một phiên bản cụ thể của 'numpy'\n",
    "uv add numpy==1.23.0\n",
    "\n",
    "# Cài đặt từ tệp pyproject.toml\n",
    "uv sync\n",
    "\n",
    "# Chuyển phiên bản python\n",
    "uv python install 3.12.3"
   ]
  },
  {
   "cell_type": "markdown",
   "metadata": {},
   "source": [
    "# Data Science Toolkit"
   ]
  },
  {
   "cell_type": "markdown",
   "metadata": {},
   "source": [
    "## 1. Numpy"
   ]
  },
  {
   "cell_type": "code",
   "execution_count": 5,
   "metadata": {},
   "outputs": [],
   "source": [
    "import numpy as np\n",
    "import time"
   ]
  },
  {
   "cell_type": "markdown",
   "metadata": {},
   "source": [
    "Cộng 2 chuỗi"
   ]
  },
  {
   "cell_type": "code",
   "execution_count": 6,
   "metadata": {},
   "outputs": [
    {
     "name": "stdout",
     "output_type": "stream",
     "text": [
      "Thời gian dùng list Python: 0.1742 giây\n",
      "Thời gian dùng mảng NumPy: 0.0051 giây\n",
      "Thời gian NumPy nhanh hơn list Python 34.12 lần\n"
     ]
    }
   ],
   "source": [
    "# Sử dụng list Python\n",
    "list1 = range(1000000)\n",
    "list2 = range(1000000)\n",
    "start_time = time.time()\n",
    "result_list = [x + y for x, y in zip(list1, list2)]\n",
    "end_time = time.time()\n",
    "normal_time = end_time - start_time\n",
    "print(f\"Thời gian dùng list Python: {end_time - start_time:.4f} giây\")\n",
    "\n",
    "# Sử dụng mảng NumPy\n",
    "array1 = np.arange(1000000)\n",
    "array2 = np.arange(1000000)\n",
    "start_time = time.time()\n",
    "result_array = array1 + array2\n",
    "end_time = time.time()\n",
    "numpy_time = end_time - start_time\n",
    "print(f\"Thời gian dùng mảng NumPy: {end_time - start_time:.4f} giây\")\n",
    "print(f\"Thời gian NumPy nhanh hơn list Python {normal_time / numpy_time:.2f} lần\")"
   ]
  },
  {
   "cell_type": "markdown",
   "metadata": {},
   "source": [
    "Nhân vô hướng 2 ma trận"
   ]
  },
  {
   "cell_type": "code",
   "execution_count": 7,
   "metadata": {},
   "outputs": [
    {
     "name": "stdout",
     "output_type": "stream",
     "text": [
      "Thời gian nhân ma trận bằng for-loop: 0.8093 giây\n",
      "Thời gian nhân ma trận bằng numpy: 0.0005 giây\n",
      "Numpy nhanh hơn for-loop 1689.67 lần\n"
     ]
    }
   ],
   "source": [
    "# Tạo hai ma trận 100x100 ngẫu nhiên\n",
    "A = np.random.rand(100, 100)\n",
    "B = np.random.rand(100, 100)\n",
    "\n",
    "# Nhân ma trận bằng for-loop\n",
    "start_time = time.time()\n",
    "result_loop = np.zeros((100, 100))\n",
    "for i in range(100):\n",
    "    for j in range(100):\n",
    "        for k in range(100):\n",
    "            result_loop[i, j] += A[i, k] * B[k, j]\n",
    "end_time = time.time()\n",
    "loop_time = end_time - start_time\n",
    "print(f\"Thời gian nhân ma trận bằng for-loop: {loop_time:.4f} giây\")\n",
    "\n",
    "# Nhân ma trận bằng numpy\n",
    "start_time = time.time()\n",
    "result_numpy = np.dot(A, B)\n",
    "end_time = time.time()\n",
    "numpy_time = end_time - start_time\n",
    "print(f\"Thời gian nhân ma trận bằng numpy: {numpy_time:.4f} giây\")\n",
    "\n",
    "print(f\"Numpy nhanh hơn for-loop {loop_time / numpy_time:.2f} lần\")"
   ]
  },
  {
   "cell_type": "markdown",
   "metadata": {},
   "source": [
    "## 2. Pandas"
   ]
  },
  {
   "cell_type": "code",
   "execution_count": 8,
   "metadata": {},
   "outputs": [
    {
     "name": "stdout",
     "output_type": "stream",
     "text": [
      "Series từ list:\n",
      "0    10\n",
      "1    20\n",
      "2    30\n",
      "3    40\n",
      "4    50\n",
      "dtype: int64\n",
      "\n",
      "---\n",
      "Series từ dictionary:\n",
      "A    1\n",
      "B    2\n",
      "C    3\n",
      "D    4\n",
      "dtype: int64\n",
      "\n",
      "---\n",
      "Series với index tùy chỉnh:\n",
      "ngày 1    10\n",
      "ngày 2    20\n",
      "ngày 3    30\n",
      "ngày 4    40\n",
      "ngày 5    50\n",
      "dtype: int64\n"
     ]
    }
   ],
   "source": [
    "import pandas as pd\n",
    "\n",
    "# Tạo Series từ một list\n",
    "data_list = [10, 20, 30, 40, 50]\n",
    "series_from_list = pd.Series(data_list)\n",
    "print(\"Series từ list:\")\n",
    "print(series_from_list)\n",
    "print(\"\\n---\")\n",
    "\n",
    "# Tạo Series từ một dictionary (khóa trở thành index)\n",
    "data_dict = {'A': 1, 'B': 2, 'C': 3, 'D': 4}\n",
    "series_from_dict = pd.Series(data_dict)\n",
    "print(\"Series từ dictionary:\")\n",
    "print(series_from_dict)\n",
    "print(\"\\n---\")\n",
    "\n",
    "# Tạo Series với index tùy chỉnh\n",
    "custom_index = ['ngày 1', 'ngày 2', 'ngày 3', 'ngày 4', 'ngày 5']\n",
    "series_custom_index = pd.Series(data_list, index=custom_index)\n",
    "print(\"Series với index tùy chỉnh:\")\n",
    "print(series_custom_index)"
   ]
  },
  {
   "cell_type": "code",
   "execution_count": 9,
   "metadata": {},
   "outputs": [
    {
     "name": "stdout",
     "output_type": "stream",
     "text": [
      "DataFrame từ dictionary:\n",
      "       Tên  Tuổi  Điểm\n",
      "0    Alice    25    85\n",
      "1      Bob    30    90\n",
      "2  Charlie    22    78\n",
      "3    David    35    92\n",
      "\n",
      "---\n",
      "DataFrame từ list của dictionary:\n",
      "       Tên  Tuổi  Điểm\n",
      "0    Alice    25    85\n",
      "1      Bob    30    90\n",
      "2  Charlie    22    78\n",
      "3    David    35    92\n"
     ]
    }
   ],
   "source": [
    "# Tạo DataFrame từ một dictionary của các list (mỗi list là một cột)\n",
    "data_dict_df = {\n",
    "    'Tên': ['Alice', 'Bob', 'Charlie', 'David'],\n",
    "    'Tuổi': [25, 30, 22, 35],\n",
    "    'Điểm': [85, 90, 78, 92]\n",
    "}\n",
    "df_from_dict = pd.DataFrame(data_dict_df)\n",
    "print(\"DataFrame từ dictionary:\")\n",
    "print(df_from_dict)\n",
    "print(\"\\n---\")\n",
    "\n",
    "# Tạo DataFrame từ một list của các dictionary (mỗi dictionary là một hàng)\n",
    "data_list_df = [\n",
    "    {'Tên': 'Alice', 'Tuổi': 25, 'Điểm': 85},\n",
    "    {'Tên': 'Bob', 'Tuổi': 30, 'Điểm': 90},\n",
    "    {'Tên': 'Charlie', 'Tuổi': 22, 'Điểm': 78},\n",
    "    {'Tên': 'David', 'Tuổi': 35, 'Điểm': 92}\n",
    "]\n",
    "df_from_list = pd.DataFrame(data_list_df)\n",
    "print(\"DataFrame từ list của dictionary:\")\n",
    "print(df_from_list)"
   ]
  },
  {
   "cell_type": "code",
   "execution_count": null,
   "metadata": {},
   "outputs": [
    {
     "name": "stdout",
     "output_type": "stream",
     "text": [
      "Thông tin DataFrame:\n",
      "<class 'pandas.core.frame.DataFrame'>\n",
      "RangeIndex: 4 entries, 0 to 3\n",
      "Data columns (total 3 columns):\n",
      " #   Column  Non-Null Count  Dtype \n",
      "---  ------  --------------  ----- \n",
      " 0   Tên     4 non-null      object\n",
      " 1   Tuổi    4 non-null      int64 \n",
      " 2   Điểm    4 non-null      int64 \n",
      "dtypes: int64(2), object(1)\n",
      "memory usage: 228.0+ bytes\n",
      "\n",
      "---\n",
      "Thống kê mô tả:\n",
      "            Tuổi       Điểm\n",
      "count   4.000000   4.000000\n",
      "mean   28.000000  86.250000\n",
      "std     5.715476   6.238322\n",
      "min    22.000000  78.000000\n",
      "25%    24.250000  83.250000\n",
      "50%    27.500000  87.500000\n",
      "75%    31.250000  90.500000\n",
      "max    35.000000  92.000000\n",
      "\n",
      "---\n",
      "5 hàng đầu:\n",
      "       Tên  Tuổi  Điểm\n",
      "0    Alice    25    85\n",
      "1      Bob    30    90\n",
      "2  Charlie    22    78\n",
      "3    David    35    92\n",
      "\n",
      "---\n",
      "5 hàng cuối:\n",
      "       Tên  Tuổi  Điểm\n",
      "0    Alice    25    85\n",
      "1      Bob    30    90\n",
      "2  Charlie    22    78\n",
      "3    David    35    92\n"
     ]
    }
   ],
   "source": [
    "import pandas as pd\n",
    "\n",
    "data = {'Tên': ['Alice', 'Bob', 'Charlie', 'David'],\n",
    "        'Tuổi': [25, 30, 22, 35],\n",
    "        'Điểm': [85, 90, 78, 92]}\n",
    "df = pd.DataFrame(data)\n",
    "\n",
    "print(\"Thông tin DataFrame:\")\n",
    "df.info()\n",
    "print(\"\\n---\")\n",
    "\n",
    "print(\"Thống kê mô tả:\")\n",
    "print(df.describe())\n",
    "print(\"\\n---\")\n",
    "\n",
    "print(\"5 hàng đầu:\")\n",
    "print(df.head())\n",
    "print(\"\\n---\")\n",
    "\n",
    "print(\"5 hàng cuối:\")\n",
    "print(df.tail())"
   ]
  },
  {
   "cell_type": "code",
   "execution_count": null,
   "metadata": {},
   "outputs": [
    {
     "name": "stdout",
     "output_type": "stream",
     "text": [
      "Cột 'Tên':\n",
      "0      Alice\n",
      "1        Bob\n",
      "2    Charlie\n",
      "3      David\n",
      "Name: Tên, dtype: object\n",
      "\n",
      "---\n",
      "Các cột 'Tên' và 'Tuổi':\n",
      "       Tên  Tuổi\n",
      "0    Alice    25\n",
      "1      Bob    30\n",
      "2  Charlie    22\n",
      "3    David    35\n",
      "\n",
      "---\n",
      "Hàng có index 0:\n",
      "Tên     Alice\n",
      "Tuổi       25\n",
      "Điểm       85\n",
      "Name: 0, dtype: object\n",
      "\n",
      "---\n",
      "Hàng ở vị trí 1:\n",
      "Tên     Bob\n",
      "Tuổi     30\n",
      "Điểm     90\n",
      "Name: 1, dtype: object\n",
      "\n",
      "---\n",
      "Điểm của 'Bob':\n",
      "90\n",
      "\n",
      "---\n",
      "Tên và Tuổi của 2 hàng đầu:\n",
      "     Tên  Tuổi\n",
      "0  Alice    25\n",
      "1    Bob    30\n"
     ]
    }
   ],
   "source": [
    "# Chọn một cột\n",
    "print(\"Cột 'Tên':\")\n",
    "print(df['Tên'])\n",
    "print(\"\\n---\")\n",
    "\n",
    "# Chọn nhiều cột\n",
    "print(\"Các cột 'Tên' và 'Tuổi':\")\n",
    "print(df[['Tên', 'Tuổi']])\n",
    "print(\"\\n---\")\n",
    "\n",
    "# Chọn hàng theo index (sử dụng .loc cho label-based indexing)\n",
    "print(\"Hàng có index 0:\")\n",
    "print(df.loc[0])\n",
    "print(\"\\n---\")\n",
    "\n",
    "# Chọn hàng theo vị trí (sử dụng .iloc cho integer-based indexing)\n",
    "print(\"Hàng ở vị trí 1:\")\n",
    "print(df.iloc[1])\n",
    "print(\"\\n---\")\n",
    "\n",
    "# Chọn một ô cụ thể\n",
    "print(\"Điểm của 'Bob':\")\n",
    "print(df.loc[1, 'Điểm'])\n",
    "print(\"\\n---\")\n",
    "\n",
    "# Chọn một nhóm ô\n",
    "print(\"Tên và Tuổi của 2 hàng đầu:\")\n",
    "print(df.loc[0:1, ['Tên', 'Tuổi']])"
   ]
  },
  {
   "cell_type": "code",
   "execution_count": 13,
   "metadata": {},
   "outputs": [
    {
     "name": "stdout",
     "output_type": "stream",
     "text": [
      "Hàng có tuổi > 25:\n",
      "     Tên  Tuổi  Điểm Thành phố\n",
      "1    Bob    30    90        HN\n",
      "3  David    35    92        ĐN\n",
      "4    Eve    28    88        HN\n",
      "\n",
      "---\n",
      "Hàng có điểm > 80 và ở HCM:\n",
      "     Tên  Tuổi  Điểm Thành phố\n",
      "0  Alice    25    85       HCM\n",
      "\n",
      "---\n",
      "Hàng có tên là Bob hoặc Eve:\n",
      "   Tên  Tuổi  Điểm Thành phố\n",
      "1  Bob    30    90        HN\n",
      "4  Eve    28    88        HN\n"
     ]
    }
   ],
   "source": [
    "data = {'Tên': ['Alice', 'Bob', 'Charlie', 'David', 'Eve'],\n",
    "        'Tuổi': [25, 30, 22, 35, 28],\n",
    "        'Điểm': [85, 90, 78, 92, 88],\n",
    "        'Thành phố': ['HCM', 'HN', 'HCM', 'ĐN', 'HN']}\n",
    "df = pd.DataFrame(data)\n",
    "\n",
    "# Lọc các hàng có tuổi lớn hơn 25\n",
    "filtered_df_age = df[df['Tuổi'] > 25]\n",
    "print(\"Hàng có tuổi > 25:\")\n",
    "print(filtered_df_age)\n",
    "print(\"\\n---\")\n",
    "\n",
    "# Lọc các hàng có điểm lớn hơn 80 VÀ ở thành phố HCM\n",
    "filtered_df_score_city = df[(df['Điểm'] > 80) & (df['Thành phố'] == 'HCM')]\n",
    "print(\"Hàng có điểm > 80 và ở HCM:\")\n",
    "print(filtered_df_score_city)\n",
    "print(\"\\n---\")\n",
    "\n",
    "# Lọc các hàng có tên là 'Bob' HOẶC 'Eve'\n",
    "filtered_df_name = df[df['Tên'].isin(['Bob', 'Eve'])]\n",
    "print(\"Hàng có tên là Bob hoặc Eve:\")\n",
    "print(filtered_df_name)"
   ]
  },
  {
   "cell_type": "code",
   "execution_count": 14,
   "metadata": {},
   "outputs": [
    {
     "name": "stdout",
     "output_type": "stream",
     "text": [
      "DataFrame đã đọc từ CSV:\n",
      "     Tên  Tuổi\n",
      "0  Alice    25\n",
      "1    Bob    30\n"
     ]
    }
   ],
   "source": [
    "# Tạo một DataFrame (ví dụ)\n",
    "data = {'Tên': ['Alice', 'Bob'], 'Tuổi': [25, 30]}\n",
    "df = pd.DataFrame(data)\n",
    "\n",
    "# Ghi DataFrame vào tệp CSV\n",
    "df.to_csv('data.csv', index=False) # index=False để không ghi index vào tệp\n",
    "\n",
    "# Đọc DataFrame từ tệp CSV\n",
    "df_loaded = pd.read_csv('data.csv')\n",
    "print(\"DataFrame đã đọc từ CSV:\")\n",
    "print(df_loaded)"
   ]
  },
  {
   "cell_type": "markdown",
   "metadata": {},
   "source": [
    "## 2. Pandas"
   ]
  }
 ],
 "metadata": {
  "kernelspec": {
   "display_name": ".venv",
   "language": "python",
   "name": "python3"
  },
  "language_info": {
   "codemirror_mode": {
    "name": "ipython",
    "version": 3
   },
   "file_extension": ".py",
   "mimetype": "text/x-python",
   "name": "python",
   "nbconvert_exporter": "python",
   "pygments_lexer": "ipython3",
   "version": "3.12.3"
  }
 },
 "nbformat": 4,
 "nbformat_minor": 2
}
