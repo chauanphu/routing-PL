{
 "cells": [
  {
   "cell_type": "code",
   "execution_count": 2,
   "metadata": {},
   "outputs": [],
   "source": [
    "import pandas as pd\n",
    "import os"
   ]
  },
  {
   "cell_type": "code",
   "execution_count": 3,
   "metadata": {},
   "outputs": [
    {
     "data": {
      "application/vnd.microsoft.datawrangler.viewer.v0+json": {
       "columns": [
        {
         "name": "index",
         "rawType": "int64",
         "type": "integer"
        },
        {
         "name": "num_vehicles",
         "rawType": "int64",
         "type": "integer"
        },
        {
         "name": "min_fitness",
         "rawType": "float64",
         "type": "float"
        },
        {
         "name": "avg_fitness",
         "rawType": "float64",
         "type": "float"
        },
        {
         "name": "std_fitness",
         "rawType": "float64",
         "type": "float"
        },
        {
         "name": "avg_runtime",
         "rawType": "float64",
         "type": "float"
        },
        {
         "name": "std_runtime",
         "rawType": "float64",
         "type": "float"
        }
       ],
       "conversionMethod": "pd.DataFrame",
       "ref": "bca98228-5dc8-4d0f-afa8-6d14e6e952ff",
       "rows": [
        [
         "0",
         "3",
         "165.95119706884762",
         "165.95119706884765",
         "2.995911226518785e-14",
         "3.9657931089401246",
         "0.18436931326649106"
        ],
        [
         "1",
         "2",
         "134.3530152067991",
         "134.47903061575158",
         "0.39849571256737504",
         "4.184238409996032",
         "0.13158853047709243"
        ],
        [
         "2",
         "2",
         "153.5463473402382",
         "162.446770164572",
         "4.9195237102646825",
         "3.9880253076553345",
         "0.064466476795996"
        ],
        [
         "3",
         "2",
         "160.0077203660981",
         "160.0077203660981",
         "0.0",
         "4.142814588546753",
         "0.06659908987360633"
        ],
        [
         "4",
         "2",
         "173.7224296377584",
         "173.72242963775844",
         "2.995911226518785e-14",
         "4.089192605018615",
         "0.07827469912413268"
        ]
       ],
       "shape": {
        "columns": 6,
        "rows": 5
       }
      },
      "text/html": [
       "<div>\n",
       "<style scoped>\n",
       "    .dataframe tbody tr th:only-of-type {\n",
       "        vertical-align: middle;\n",
       "    }\n",
       "\n",
       "    .dataframe tbody tr th {\n",
       "        vertical-align: top;\n",
       "    }\n",
       "\n",
       "    .dataframe thead th {\n",
       "        text-align: right;\n",
       "    }\n",
       "</style>\n",
       "<table border=\"1\" class=\"dataframe\">\n",
       "  <thead>\n",
       "    <tr style=\"text-align: right;\">\n",
       "      <th></th>\n",
       "      <th>num_vehicles</th>\n",
       "      <th>min_fitness</th>\n",
       "      <th>avg_fitness</th>\n",
       "      <th>std_fitness</th>\n",
       "      <th>avg_runtime</th>\n",
       "      <th>std_runtime</th>\n",
       "    </tr>\n",
       "  </thead>\n",
       "  <tbody>\n",
       "    <tr>\n",
       "      <th>0</th>\n",
       "      <td>3</td>\n",
       "      <td>165.951197</td>\n",
       "      <td>165.951197</td>\n",
       "      <td>2.995911e-14</td>\n",
       "      <td>3.965793</td>\n",
       "      <td>0.184369</td>\n",
       "    </tr>\n",
       "    <tr>\n",
       "      <th>1</th>\n",
       "      <td>2</td>\n",
       "      <td>134.353015</td>\n",
       "      <td>134.479031</td>\n",
       "      <td>3.984957e-01</td>\n",
       "      <td>4.184238</td>\n",
       "      <td>0.131589</td>\n",
       "    </tr>\n",
       "    <tr>\n",
       "      <th>2</th>\n",
       "      <td>2</td>\n",
       "      <td>153.546347</td>\n",
       "      <td>162.446770</td>\n",
       "      <td>4.919524e+00</td>\n",
       "      <td>3.988025</td>\n",
       "      <td>0.064466</td>\n",
       "    </tr>\n",
       "    <tr>\n",
       "      <th>3</th>\n",
       "      <td>2</td>\n",
       "      <td>160.007720</td>\n",
       "      <td>160.007720</td>\n",
       "      <td>0.000000e+00</td>\n",
       "      <td>4.142815</td>\n",
       "      <td>0.066599</td>\n",
       "    </tr>\n",
       "    <tr>\n",
       "      <th>4</th>\n",
       "      <td>2</td>\n",
       "      <td>173.722430</td>\n",
       "      <td>173.722430</td>\n",
       "      <td>2.995911e-14</td>\n",
       "      <td>4.089193</td>\n",
       "      <td>0.078275</td>\n",
       "    </tr>\n",
       "  </tbody>\n",
       "</table>\n",
       "</div>"
      ],
      "text/plain": [
       "   num_vehicles  min_fitness  avg_fitness   std_fitness  avg_runtime  \\\n",
       "0             3   165.951197   165.951197  2.995911e-14     3.965793   \n",
       "1             2   134.353015   134.479031  3.984957e-01     4.184238   \n",
       "2             2   153.546347   162.446770  4.919524e+00     3.988025   \n",
       "3             2   160.007720   160.007720  0.000000e+00     4.142815   \n",
       "4             2   173.722430   173.722430  2.995911e-14     4.089193   \n",
       "\n",
       "   std_runtime  \n",
       "0     0.184369  \n",
       "1     0.131589  \n",
       "2     0.064466  \n",
       "3     0.066599  \n",
       "4     0.078275  "
      ]
     },
     "execution_count": 3,
     "metadata": {},
     "output_type": "execute_result"
    }
   ],
   "source": [
    "RAW_DATA_DIR = \"output/results/25\"\n",
    "import os\n",
    "# The raw data format: run,best_fitness,num_vehicles,runtime\n",
    "# Output report format: num_vehicles,min_fitness,avg_fitness,std_fitness,avg_runtime,std_runtime | num)_vehicles: is the number of vehicle associtated with the min fitness\n",
    "# Load all data files in RAW_DATA_DIR, transform, aggregate and save the report\n",
    "\n",
    "instances = os.listdir(RAW_DATA_DIR)\n",
    "instances.sort()\n",
    "\n",
    "report = []\n",
    "for instance in instances:\n",
    "    data = pd.read_csv(f\"{RAW_DATA_DIR}/{instance}\")\n",
    "    describe = data.describe()\n",
    "    min_fitness = describe.loc[\"min\", \"best_fitness\"]\n",
    "    avg_fitness = describe.loc[\"mean\", \"best_fitness\"]\n",
    "    std_fitness = describe.loc[\"std\", \"best_fitness\"]\n",
    "    avg_runtime = describe.loc[\"mean\", \"runtime\"]\n",
    "    std_runtime = describe.loc[\"std\", \"runtime\"]\n",
    "    num_vehicles = data.loc[data[\"best_fitness\"] == min_fitness, \"num_vehicles\"].values[0]\n",
    "    report.append([num_vehicles, min_fitness, avg_fitness, std_fitness, avg_runtime, std_runtime])\n",
    "\n",
    "report = pd.DataFrame(report, columns=[\"num_vehicles\", \"min_fitness\", \"avg_fitness\", \"std_fitness\", \"avg_runtime\", \"std_runtime\"])\n",
    "report.to_csv(\"output/25_report.csv\", index=False)\n",
    "report.head()"
   ]
  },
  {
   "cell_type": "code",
   "execution_count": null,
   "metadata": {},
   "outputs": [
    {
     "name": "stdout",
     "output_type": "stream",
     "text": [
      "C03\n",
      "C204\n",
      "C205\n",
      "C206\n",
      "C207\n",
      "C208\n",
      "R101\n",
      "R102\n",
      "R103\n",
      "11104\n",
      "R105\n",
      "R106\n",
      "R107\n",
      "R108\n",
      "R109\n",
      "R110\n",
      "R111\n",
      "RI\n",
      "0.00%\n"
     ]
    },
    {
     "ename": "ValueError",
     "evalue": "invalid literal for int() with base 10: '653.3'",
     "output_type": "error",
     "traceback": [
      "\u001b[0;31m---------------------------------------------------------------------------\u001b[0m",
      "\u001b[0;31mValueError\u001b[0m                                Traceback (most recent call last)",
      "Cell \u001b[0;32mIn[7], line 24\u001b[0m\n\u001b[1;32m     22\u001b[0m instance_name \u001b[38;5;241m=\u001b[39m lines[i]\u001b[38;5;241m.\u001b[39mstrip()\n\u001b[1;32m     23\u001b[0m \u001b[38;5;28mprint\u001b[39m(instance_name)\n\u001b[0;32m---> 24\u001b[0m num_vehicles \u001b[38;5;241m=\u001b[39m \u001b[38;5;28;43mint\u001b[39;49m\u001b[43m(\u001b[49m\u001b[43mlines\u001b[49m\u001b[43m[\u001b[49m\u001b[43mi\u001b[49m\u001b[43m \u001b[49m\u001b[38;5;241;43m+\u001b[39;49m\u001b[43m \u001b[49m\u001b[38;5;241;43m4\u001b[39;49m\u001b[43m]\u001b[49m\u001b[38;5;241;43m.\u001b[39;49m\u001b[43mstrip\u001b[49m\u001b[43m(\u001b[49m\u001b[43m)\u001b[49m\u001b[43m)\u001b[49m\n\u001b[1;32m     25\u001b[0m min_fitness \u001b[38;5;241m=\u001b[39m \u001b[38;5;28mfloat\u001b[39m(lines[i \u001b[38;5;241m+\u001b[39m \u001b[38;5;241m5\u001b[39m]\u001b[38;5;241m.\u001b[39mstrip())\n\u001b[1;32m     26\u001b[0m avg_fitness \u001b[38;5;241m=\u001b[39m \u001b[38;5;28mfloat\u001b[39m(lines[i \u001b[38;5;241m+\u001b[39m \u001b[38;5;241m6\u001b[39m]\u001b[38;5;241m.\u001b[39mstrip())\n",
      "\u001b[0;31mValueError\u001b[0m: invalid literal for int() with base 10: '653.3'"
     ]
    }
   ],
   "source": [
    "# Extract from .txt\n",
    "# Read from text file. Text format:\n",
    "# # Every 1st row: instance name\n",
    "# # Every 2nd row: benchmark num_vehicles (can be ignored and skipped)\n",
    "# # Every 3rd row: benchmark runtime (can be ignored and skipped)\n",
    "# # Every 4th row: proposed num_vehicles\n",
    "# # Every 5th row: best fitness\n",
    "# # Every 6th row: avg fitness\n",
    "# # Every 7th row: runtime\n",
    "# # Every 8th row: gap 1 (can be ignored and skipped)\n",
    "# # Every 9th row: gap 2 (can be ignored and skipped)\n",
    "\n",
    "# The output format: instance_name,num_vehicles,min_fitness,avg_fitness,runtime\n",
    "# Load data from text.txt, transform, aggregate and save the report\n",
    "\n",
    "TEXT_FILE = \"output/test.txt\"\n",
    "with open(TEXT_FILE, \"r\") as f:\n",
    "    lines = f.readlines()\n",
    "\n",
    "report = []\n",
    "for i in range(0, 31, 10):\n",
    "    instance_name = lines[i].strip()\n",
    "    print(instance_name)\n",
    "    num_vehicles = int(lines[i + 4].strip())\n",
    "    min_fitness = float(lines[i + 5].strip())\n",
    "    avg_fitness = float(lines[i + 6].strip())\n",
    "    runtime = float(lines[i + 7].strip())\n",
    "    report.append([instance_name, num_vehicles, min_fitness, avg_fitness, runtime])\n",
    "\n",
    "report = pd.DataFrame(report, columns=[\"instance_name\", \"num_vehicles\", \"min_fitness\", \"avg_fitness\", \"runtime\"])\n",
    "report.to_csv(\"output/text_report.csv\", index=False)\n",
    "report.head()"
   ]
  }
 ],
 "metadata": {
  "kernelspec": {
   "display_name": ".venv",
   "language": "python",
   "name": "python3"
  },
  "language_info": {
   "codemirror_mode": {
    "name": "ipython",
    "version": 3
   },
   "file_extension": ".py",
   "mimetype": "text/x-python",
   "name": "python",
   "nbconvert_exporter": "python",
   "pygments_lexer": "ipython3",
   "version": "3.12.3"
  }
 },
 "nbformat": 4,
 "nbformat_minor": 2
}
